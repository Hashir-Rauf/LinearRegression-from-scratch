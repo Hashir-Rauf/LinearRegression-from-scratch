{
 "cells": [
  {
   "cell_type": "code",
   "execution_count": 1,
   "id": "6ce6f8df-482a-436c-8891-8281dbcbd358",
   "metadata": {},
   "outputs": [],
   "source": [
    "class DataLoader:\n",
    "  def __init__(self):\n",
    "    self.Data = {}\n",
    "\n",
    "  def load_data_from_csv(self,csv_file):\n",
    "    import csv  #importing csv handling library\n",
    "    with open(csv_file) as csv_file:  #opening csv file\n",
    "      csv_reader = csv.reader(csv_file, delimiter=',')   #reading the csv in a 2D list and treating each row as 1D list with values being separated by columns \n",
    "      line_count = 0 #to keep track of the lines\n",
    "      for row in csv_reader:   #reading row by row\n",
    "        if line_count == 0:    #column row\n",
    "          for column_name in row:  # fetching \n",
    "            self.Data[column_name] = [] #Defining Dataframe columns\n",
    "          line_count += 1  \n",
    "        else:\n",
    "          keys = list(self.Data.keys())\n",
    "          for i in range(len(row)):\n",
    "            self.Data[keys[i]].append(row[i]) #Defining Data for each column\n",
    "          line_count += 1\n",
    "      return self.Data\n",
    "\n"
   ]
  },
  {
   "cell_type": "code",
   "execution_count": null,
   "id": "3bcbf697-0762-4bea-9894-009d011aa2f9",
   "metadata": {},
   "outputs": [],
   "source": []
  },
  {
   "cell_type": "markdown",
   "id": "2e92b4a7-efff-4fbb-98af-301f2833c860",
   "metadata": {},
   "source": [
    "Main"
   ]
  },
  {
   "cell_type": "code",
   "execution_count": 6,
   "id": "30c11ecd-0c1f-4494-b5d2-34ee9e2248ea",
   "metadata": {},
   "outputs": [
    {
     "name": "stdout",
     "output_type": "stream",
     "text": [
      "dict_keys(['Date', 'RegionName', 'AreaCode', 'AveragePrice', 'Index', 'IndexSA', '1m%Change', '12m%Change', 'AveragePriceSA', 'SalesVolume', 'DetachedPrice', 'DetachedIndex', 'Detached1m%Change', 'Detached12m%Change', 'SemiDetachedPrice', 'SemiDetachedIndex', 'SemiDetached1m%Change', 'SemiDetached12m%Change', 'TerracedPrice', 'TerracedIndex', 'Terraced1m%Change', 'Terraced12m%Change', 'FlatPrice', 'FlatIndex', 'Flat1m%Change', 'Flat12m%Change', 'CashPrice', 'CashIndex', 'Cash1m%Change', 'Cash12m%Change', 'CashSalesVolume', 'MortgagePrice', 'MortgageIndex', 'Mortgage1m%Change', 'Mortgage12m%Change', 'MortgageSalesVolume', 'FTBPrice', 'FTBIndex', 'FTB1m%Change', 'FTB12m%Change', 'FOOPrice', 'FOOIndex', 'FOO1m%Change', 'FOO12m%Change', 'NewPrice', 'NewIndex', 'New1m%Change', 'New12m%Change', 'NewSalesVolume', 'OldPrice', 'OldIndex', 'Old1m%Change', 'Old12m%Change', 'OldSalesVolume'])\n"
     ]
    },
    {
     "data": {
      "text/plain": [
       "144225"
      ]
     },
     "execution_count": 6,
     "metadata": {},
     "output_type": "execute_result"
    }
   ],
   "source": [
    "loader = DataLoader()\n",
    "data = loader.load_data_from_csv('data.csv')\n",
    "print(data.keys())\n",
    "len(data['Date'])"
   ]
  },
  {
   "cell_type": "code",
   "execution_count": null,
   "id": "7e88adf2-1022-4fbb-a5ba-90ad6a48fa1a",
   "metadata": {},
   "outputs": [],
   "source": []
  }
 ],
 "metadata": {
  "kernelspec": {
   "display_name": "Python 3 (ipykernel)",
   "language": "python",
   "name": "python3"
  },
  "language_info": {
   "codemirror_mode": {
    "name": "ipython",
    "version": 3
   },
   "file_extension": ".py",
   "mimetype": "text/x-python",
   "name": "python",
   "nbconvert_exporter": "python",
   "pygments_lexer": "ipython3",
   "version": "3.13.5"
  }
 },
 "nbformat": 4,
 "nbformat_minor": 5
}
